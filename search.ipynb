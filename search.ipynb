{
 "cells": [
  {
   "cell_type": "code",
   "execution_count": 15,
   "metadata": {},
   "outputs": [],
   "source": [
    "import pandas as pd\n",
    "from openai.embeddings_utils import get_embedding, cosine_similarity\n",
    "import openai\n",
    "import numpy as np\n",
    "import os\n",
    "from dotenv import load_dotenv\n",
    "load_dotenv()\n",
    "openai.api_key = os.environ[\"OPENAI_API_KEY\"]"
   ]
  },
  {
   "cell_type": "markdown",
   "metadata": {},
   "source": [
    "# Joe's online grocery store\n",
    "\n",
    "#### Joe decided to start his own business - an online grocery store. He had 15 items in stock:"
   ]
  },
  {
   "cell_type": "code",
   "execution_count": 16,
   "metadata": {},
   "outputs": [
    {
     "data": {
      "text/html": [
       "<div>\n",
       "<style scoped>\n",
       "    .dataframe tbody tr th:only-of-type {\n",
       "        vertical-align: middle;\n",
       "    }\n",
       "\n",
       "    .dataframe tbody tr th {\n",
       "        vertical-align: top;\n",
       "    }\n",
       "\n",
       "    .dataframe thead th {\n",
       "        text-align: right;\n",
       "    }\n",
       "</style>\n",
       "<table border=\"1\" class=\"dataframe\">\n",
       "  <thead>\n",
       "    <tr style=\"text-align: right;\">\n",
       "      <th></th>\n",
       "      <th>name</th>\n",
       "      <th>description</th>\n",
       "    </tr>\n",
       "  </thead>\n",
       "  <tbody>\n",
       "    <tr>\n",
       "      <th>0</th>\n",
       "      <td>Banana</td>\n",
       "      <td>Organic bananas from Australia</td>\n",
       "    </tr>\n",
       "    <tr>\n",
       "      <th>1</th>\n",
       "      <td>Butter</td>\n",
       "      <td>Whole butter 500g</td>\n",
       "    </tr>\n",
       "    <tr>\n",
       "      <th>2</th>\n",
       "      <td>Bread</td>\n",
       "      <td>Gluten free bread 200g</td>\n",
       "    </tr>\n",
       "    <tr>\n",
       "      <th>3</th>\n",
       "      <td>Avocado</td>\n",
       "      <td>Ready to eat Avocado</td>\n",
       "    </tr>\n",
       "    <tr>\n",
       "      <th>4</th>\n",
       "      <td>Orange</td>\n",
       "      <td>Oranges from Spain</td>\n",
       "    </tr>\n",
       "    <tr>\n",
       "      <th>5</th>\n",
       "      <td>Yogurt</td>\n",
       "      <td>Organic yogurt from local farmers</td>\n",
       "    </tr>\n",
       "    <tr>\n",
       "      <th>6</th>\n",
       "      <td>Milk 0.1%</td>\n",
       "      <td>Low fat milk</td>\n",
       "    </tr>\n",
       "    <tr>\n",
       "      <th>7</th>\n",
       "      <td>Milk 6%</td>\n",
       "      <td>Whole milk</td>\n",
       "    </tr>\n",
       "    <tr>\n",
       "      <th>8</th>\n",
       "      <td>Tomato</td>\n",
       "      <td>Ripe tomatoes from local farmer</td>\n",
       "    </tr>\n",
       "    <tr>\n",
       "      <th>9</th>\n",
       "      <td>Vegan meatballs</td>\n",
       "      <td>Meatballs made from vegan ingredients</td>\n",
       "    </tr>\n",
       "    <tr>\n",
       "      <th>10</th>\n",
       "      <td>Walnuts</td>\n",
       "      <td>500g of Walnuts from Brazil</td>\n",
       "    </tr>\n",
       "    <tr>\n",
       "      <th>11</th>\n",
       "      <td>Cheese</td>\n",
       "      <td>Lactose free cheese</td>\n",
       "    </tr>\n",
       "    <tr>\n",
       "      <th>12</th>\n",
       "      <td>Salami</td>\n",
       "      <td>Salami straight from Italy</td>\n",
       "    </tr>\n",
       "    <tr>\n",
       "      <th>13</th>\n",
       "      <td>Crackers</td>\n",
       "      <td>Made by Tesco</td>\n",
       "    </tr>\n",
       "    <tr>\n",
       "      <th>14</th>\n",
       "      <td>Green olives</td>\n",
       "      <td>Organic green olives</td>\n",
       "    </tr>\n",
       "  </tbody>\n",
       "</table>\n",
       "</div>"
      ],
      "text/plain": [
       "               name                            description\n",
       "0            Banana         Organic bananas from Australia\n",
       "1            Butter                      Whole butter 500g\n",
       "2             Bread                 Gluten free bread 200g\n",
       "3           Avocado                   Ready to eat Avocado\n",
       "4            Orange                     Oranges from Spain\n",
       "5            Yogurt      Organic yogurt from local farmers\n",
       "6         Milk 0.1%                           Low fat milk\n",
       "7           Milk 6%                             Whole milk\n",
       "8            Tomato        Ripe tomatoes from local farmer\n",
       "9   Vegan meatballs  Meatballs made from vegan ingredients\n",
       "10          Walnuts            500g of Walnuts from Brazil\n",
       "11           Cheese                    Lactose free cheese\n",
       "12           Salami             Salami straight from Italy\n",
       "13         Crackers                          Made by Tesco\n",
       "14     Green olives                   Organic green olives"
      ]
     },
     "execution_count": 16,
     "metadata": {},
     "output_type": "execute_result"
    }
   ],
   "source": [
    "df = pd.DataFrame([\n",
    "    {\"name\": \"Banana\", \"description\": \"Organic bananas from Australia\"},\n",
    "    {\"name\": \"Butter\", \"description\": \"Whole butter 500g\"},\n",
    "    {\"name\": \"Bread\", \"description\": \"Gluten free bread 200g\"},\n",
    "    {\"name\": \"Avocado\", \"description\": \"Ready to eat Avocado\"},\n",
    "    {\"name\": \"Orange\", \"description\": \"Oranges from Spain\"},\n",
    "    {\"name\": \"Yogurt\", \"description\": \"Organic yogurt from local farmers\"},\n",
    "    {\"name\": \"Milk 0.1%\", \"description\": \"Low fat milk\"},\n",
    "    {\"name\": \"Milk 6%\", \"description\": \"Whole milk\"},\n",
    "    {\"name\": \"Tomato\", \"description\": \"Ripe tomatoes from local farmer\"},\n",
    "    {\"name\": \"Vegan meatballs\", \"description\": \"Meatballs made from vegan ingredients\"},\n",
    "    {\"name\": \"Walnuts\", \"description\": \"500g of Walnuts from Brazil\"},\n",
    "    {\"name\": \"Cheese\", \"description\": \"Lactose free cheese\"},\n",
    "    {\"name\": \"Salami\", \"description\": \"Salami straight from Italy\"},\n",
    "    {\"name\": \"Crackers\", \"description\": \"Made by Tesco\"},\n",
    "    {\"name\": \"Green olives\", \"description\": \"Organic green olives\"},\n",
    "])\n",
    "df"
   ]
  },
  {
   "cell_type": "markdown",
   "metadata": {},
   "source": [
    "#### Joe knew that every good online store has a search engine. So he decided to build one also. He had heard about LLM's and decided to build a search engine that uses LLM embeddings."
   ]
  },
  {
   "cell_type": "code",
   "execution_count": 17,
   "metadata": {},
   "outputs": [],
   "source": [
    "# Create a combined name for a product\n",
    "df[\"combined\"] = (\"name: \" + df.name.str.strip() + \"; description: \" + df.description.str.strip())\n",
    "\n",
    "# Get embedding value for the combined named\n",
    "model_id = \"text-embedding-ada-002\"\n",
    "df[\"embedding\"] = df.combined.apply(lambda x: get_embedding(x, engine=model_id))\n",
    "\n",
    "def search(df, search_query, n=3):\n",
    "    # Function that converts the seach query to embedding and \n",
    "    # looks for most similar products based on cosine similarity between\n",
    "    # search query embedding and product embeddings\n",
    "\n",
    "    query_embedding = get_embedding(search_query, engine=model_id)\n",
    "    df[\"similarity\"] = df.embedding.apply(lambda x: cosine_similarity(np.array(x), query_embedding))\n",
    "    results = df.sort_values(\"similarity\", ascending=False).head(n).combined.str.replace(\"name: \", \"\").str.replace(\"; description:\", \": \")\n",
    "    for r in results:\n",
    "        print(r)\n",
    "    return None\n"
   ]
  },
  {
   "cell_type": "markdown",
   "metadata": {},
   "source": [
    "#### Now Joe was ready to test his search engine. First he made few simple tests:"
   ]
  },
  {
   "cell_type": "code",
   "execution_count": 18,
   "metadata": {},
   "outputs": [
    {
     "name": "stdout",
     "output_type": "stream",
     "text": [
      "Milk 0.1%:  Low fat milk\n",
      "Milk 6%:  Whole milk\n",
      "Yogurt:  Organic yogurt from local farmers\n"
     ]
    }
   ],
   "source": [
    "search(df, search_query=\"milk\")"
   ]
  },
  {
   "cell_type": "code",
   "execution_count": 19,
   "metadata": {},
   "outputs": [
    {
     "name": "stdout",
     "output_type": "stream",
     "text": [
      "Yogurt:  Organic yogurt from local farmers\n",
      "Green olives:  Organic green olives\n",
      "Banana:  Organic bananas from Australia\n"
     ]
    }
   ],
   "source": [
    "search(df, search_query=\"organic\")"
   ]
  },
  {
   "cell_type": "markdown",
   "metadata": {},
   "source": [
    "#### Looks like the search engine works quite good with simple keywords that exist in product name/description also. \n",
    "#### Joe decided to test some more interesting case - searching based on keywords that don't exist in the product name/descritpion:"
   ]
  },
  {
   "cell_type": "code",
   "execution_count": 20,
   "metadata": {},
   "outputs": [
    {
     "name": "stdout",
     "output_type": "stream",
     "text": [
      "Orange:  Oranges from Spain\n",
      "Banana:  Organic bananas from Australia\n",
      "Tomato:  Ripe tomatoes from local farmer\n"
     ]
    }
   ],
   "source": [
    "search(df, search_query=\"fruits\")"
   ]
  },
  {
   "cell_type": "code",
   "execution_count": 21,
   "metadata": {},
   "outputs": [
    {
     "name": "stdout",
     "output_type": "stream",
     "text": [
      "Avocado:  Ready to eat Avocado\n",
      "Green olives:  Organic green olives\n",
      "Tomato:  Ripe tomatoes from local farmer\n"
     ]
    }
   ],
   "source": [
    "search(df, search_query=\"stuff for quacamole\")"
   ]
  },
  {
   "cell_type": "code",
   "execution_count": 22,
   "metadata": {},
   "outputs": [
    {
     "name": "stdout",
     "output_type": "stream",
     "text": [
      "Crackers:  Made by Tesco\n",
      "Avocado:  Ready to eat Avocado\n",
      "Salami:  Salami straight from Italy\n"
     ]
    }
   ],
   "source": [
    "search(df, search_query=\"snacks for party\")"
   ]
  },
  {
   "cell_type": "code",
   "execution_count": 23,
   "metadata": {},
   "outputs": [
    {
     "name": "stdout",
     "output_type": "stream",
     "text": [
      "Butter:  Whole butter 500g\n",
      "Bread:  Gluten free bread 200g\n",
      "Milk 6%:  Whole milk\n"
     ]
    }
   ],
   "source": [
    "search(df, search_query=\"I want to gain weight\")"
   ]
  },
  {
   "cell_type": "code",
   "execution_count": 24,
   "metadata": {},
   "outputs": [
    {
     "name": "stdout",
     "output_type": "stream",
     "text": [
      "Cheese:  Lactose free cheese\n",
      "Vegan meatballs:  Meatballs made from vegan ingredients\n",
      "Bread:  Gluten free bread 200g\n"
     ]
    }
   ],
   "source": [
    "search(df, search_query=\"allergic\")"
   ]
  }
 ],
 "metadata": {
  "kernelspec": {
   "display_name": "venv",
   "language": "python",
   "name": "python3"
  },
  "language_info": {
   "codemirror_mode": {
    "name": "ipython",
    "version": 3
   },
   "file_extension": ".py",
   "mimetype": "text/x-python",
   "name": "python",
   "nbconvert_exporter": "python",
   "pygments_lexer": "ipython3",
   "version": "3.10.10"
  }
 },
 "nbformat": 4,
 "nbformat_minor": 2
}
